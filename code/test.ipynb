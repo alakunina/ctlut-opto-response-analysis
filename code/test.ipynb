{
 "cells": [
  {
   "cell_type": "code",
   "execution_count": 1,
   "metadata": {},
   "outputs": [],
   "source": [
    "import optotagging_analysis as oa\n",
    "import glob\n",
    "import numpy as np\n",
    "import re"
   ]
  },
  {
   "cell_type": "code",
   "execution_count": 2,
   "metadata": {},
   "outputs": [
    {
     "data": {
      "text/plain": [
       "['/data/ecephys_784956_2025-07-15_15-23-15/ecephys/ecephys_clipped/']"
      ]
     },
     "execution_count": 2,
     "metadata": {},
     "output_type": "execute_result"
    }
   ],
   "source": [
    "recording_clipped_folder = glob.glob(f\"/data/ecephys_*/**/ecephys_clipped/\", recursive=True)\n",
    "recording_clipped_folder"
   ]
  },
  {
   "cell_type": "code",
   "execution_count": 3,
   "metadata": {},
   "outputs": [
    {
     "data": {
      "text/plain": [
       "['/data/ecephys_784956_2025-07-15_15-23-15_sorted_2025-07-24_03-45-57',\n",
       " '/data/ecephys_784956_2025-07-15_15-23-15_sorted-opto_2025-07-18_01-27-50']"
      ]
     },
     "execution_count": 3,
     "metadata": {},
     "output_type": "execute_result"
    }
   ],
   "source": [
    "this_recording = recording_clipped_folder[0]\n",
    "this_session = re.search('\\d{6}_\\d{4}-\\d{2}-\\d{2}_\\d{2}-\\d{2}-\\d{2}', this_recording).group(0)\n",
    "recording_sorted_folder = glob.glob(f'{this_recording[:this_recording.find(this_session)+len(this_session)]}_sorted*')\n",
    "recording_sorted_folder"
   ]
  },
  {
   "cell_type": "code",
   "execution_count": 4,
   "metadata": {},
   "outputs": [],
   "source": [
    "analyzer = oa.OptotaggingAnalysis(this_recording, recording_sorted_folder[1])"
   ]
  },
  {
   "cell_type": "code",
   "execution_count": 5,
   "metadata": {},
   "outputs": [
    {
     "data": {
      "text/plain": [
       "['ProbeA', 'ProbeB']"
      ]
     },
     "execution_count": 5,
     "metadata": {},
     "output_type": "execute_result"
    }
   ],
   "source": [
    "ap_streams = analyzer.get_stream_names()\n",
    "this_stream = ap_streams[1]\n",
    "ap_streams"
   ]
  },
  {
   "cell_type": "code",
   "execution_count": 6,
   "metadata": {},
   "outputs": [],
   "source": [
    "timestamps, sorting_outputs, waveform_extractors, extremum_channels = analyzer.get_sorting_output(this_stream)"
   ]
  },
  {
   "cell_type": "code",
   "execution_count": 16,
   "metadata": {},
   "outputs": [],
   "source": [
    "nidaq_folder = glob.glob(f\"/data/ecephys_*/**/ecephys_compressed/experiment1*NI-DAQmx*\", recursive=True)[0]"
   ]
  },
  {
   "cell_type": "code",
   "execution_count": 19,
   "metadata": {},
   "outputs": [
    {
     "ename": "TypeError",
     "evalue": "__init__() got an unexpected keyword argument 'dynamic_noise_shaping'",
     "output_type": "error",
     "traceback": [
      "\u001b[0;31m---------------------------------------------------------------------------\u001b[0m",
      "\u001b[0;31mTypeError\u001b[0m                                 Traceback (most recent call last)",
      "Cell \u001b[0;32mIn[19], line 5\u001b[0m\n\u001b[1;32m      2\u001b[0m segment_index \u001b[38;5;241m=\u001b[39m \u001b[38;5;241m0\u001b[39m\n\u001b[1;32m      3\u001b[0m \u001b[38;5;66;03m#nidaq_folder = nidaq_folder[0]\u001b[39;00m\n\u001b[1;32m      4\u001b[0m \u001b[38;5;66;03m#nidq_stream = nidaq_folder.stem\u001b[39;00m\n\u001b[0;32m----> 5\u001b[0m rec_nidaq \u001b[38;5;241m=\u001b[39m \u001b[43msi\u001b[49m\u001b[38;5;241;43m.\u001b[39;49m\u001b[43mread_zarr\u001b[49m\u001b[43m(\u001b[49m\u001b[43mnidaq_folder\u001b[49m\u001b[43m)\u001b[49m\n\u001b[1;32m      6\u001b[0m rec_nidaq \u001b[38;5;241m=\u001b[39m si\u001b[38;5;241m.\u001b[39msplit_recording(rec_nidaq)[segment_index]\n",
      "File \u001b[0;32m/opt/conda/lib/python3.9/site-packages/spikeinterface/core/zarrextractors.py:341\u001b[0m, in \u001b[0;36mread_zarr\u001b[0;34m(folder_path, storage_options)\u001b[0m\n\u001b[1;32m    339\u001b[0m root \u001b[38;5;241m=\u001b[39m super_zarr_open(folder_path, mode\u001b[38;5;241m=\u001b[39m\u001b[38;5;124m\"\u001b[39m\u001b[38;5;124mr\u001b[39m\u001b[38;5;124m\"\u001b[39m, storage_options\u001b[38;5;241m=\u001b[39mstorage_options)\n\u001b[1;32m    340\u001b[0m \u001b[38;5;28;01mif\u001b[39;00m \u001b[38;5;124m\"\u001b[39m\u001b[38;5;124mchannel_ids\u001b[39m\u001b[38;5;124m\"\u001b[39m \u001b[38;5;129;01min\u001b[39;00m root\u001b[38;5;241m.\u001b[39mkeys():\n\u001b[0;32m--> 341\u001b[0m     \u001b[38;5;28;01mreturn\u001b[39;00m \u001b[43mread_zarr_recording\u001b[49m\u001b[43m(\u001b[49m\u001b[43mfolder_path\u001b[49m\u001b[43m,\u001b[49m\u001b[43m \u001b[49m\u001b[43mstorage_options\u001b[49m\u001b[38;5;241;43m=\u001b[39;49m\u001b[43mstorage_options\u001b[49m\u001b[43m)\u001b[49m\n\u001b[1;32m    342\u001b[0m \u001b[38;5;28;01melif\u001b[39;00m \u001b[38;5;124m\"\u001b[39m\u001b[38;5;124munit_ids\u001b[39m\u001b[38;5;124m\"\u001b[39m \u001b[38;5;129;01min\u001b[39;00m root\u001b[38;5;241m.\u001b[39mkeys():\n\u001b[1;32m    343\u001b[0m     \u001b[38;5;28;01mreturn\u001b[39;00m read_zarr_sorting(folder_path, storage_options\u001b[38;5;241m=\u001b[39mstorage_options)\n",
      "File \u001b[0;32m/opt/conda/lib/python3.9/site-packages/spikeinterface/core/zarrextractors.py:132\u001b[0m, in \u001b[0;36mZarrRecordingExtractor.__init__\u001b[0;34m(self, folder_path, storage_options)\u001b[0m\n\u001b[1;32m    128\u001b[0m \u001b[38;5;28;01massert\u001b[39;00m num_segments \u001b[38;5;129;01mis\u001b[39;00m \u001b[38;5;129;01mnot\u001b[39;00m \u001b[38;5;28;01mNone\u001b[39;00m, \u001b[38;5;124m\"\u001b[39m\u001b[38;5;124m'\u001b[39m\u001b[38;5;124mnum_segments\u001b[39m\u001b[38;5;124m'\u001b[39m\u001b[38;5;124m attiribute not found!\u001b[39m\u001b[38;5;124m\"\u001b[39m\n\u001b[1;32m    130\u001b[0m channel_ids \u001b[38;5;241m=\u001b[39m np\u001b[38;5;241m.\u001b[39marray(channel_ids)\n\u001b[0;32m--> 132\u001b[0m dtype \u001b[38;5;241m=\u001b[39m \u001b[38;5;28;43mself\u001b[39;49m\u001b[38;5;241;43m.\u001b[39;49m\u001b[43m_root\u001b[49m\u001b[43m[\u001b[49m\u001b[38;5;124;43m\"\u001b[39;49m\u001b[38;5;124;43mtraces_seg0\u001b[39;49m\u001b[38;5;124;43m\"\u001b[39;49m\u001b[43m]\u001b[49m\u001b[38;5;241m.\u001b[39mdtype\n\u001b[1;32m    134\u001b[0m BaseRecording\u001b[38;5;241m.\u001b[39m\u001b[38;5;21m__init__\u001b[39m(\u001b[38;5;28mself\u001b[39m, sampling_frequency, channel_ids, dtype)\n\u001b[1;32m    136\u001b[0m dtype \u001b[38;5;241m=\u001b[39m np\u001b[38;5;241m.\u001b[39mdtype(dtype)\n",
      "File \u001b[0;32m/opt/conda/lib/python3.9/site-packages/zarr/hierarchy.py:467\u001b[0m, in \u001b[0;36mGroup.__getitem__\u001b[0;34m(self, item)\u001b[0m\n\u001b[1;32m    465\u001b[0m path \u001b[38;5;241m=\u001b[39m \u001b[38;5;28mself\u001b[39m\u001b[38;5;241m.\u001b[39m_item_path(item)\n\u001b[1;32m    466\u001b[0m \u001b[38;5;28;01mtry\u001b[39;00m:\n\u001b[0;32m--> 467\u001b[0m     \u001b[38;5;28;01mreturn\u001b[39;00m \u001b[43mArray\u001b[49m\u001b[43m(\u001b[49m\n\u001b[1;32m    468\u001b[0m \u001b[43m        \u001b[49m\u001b[38;5;28;43mself\u001b[39;49m\u001b[38;5;241;43m.\u001b[39;49m\u001b[43m_store\u001b[49m\u001b[43m,\u001b[49m\n\u001b[1;32m    469\u001b[0m \u001b[43m        \u001b[49m\u001b[43mread_only\u001b[49m\u001b[38;5;241;43m=\u001b[39;49m\u001b[38;5;28;43mself\u001b[39;49m\u001b[38;5;241;43m.\u001b[39;49m\u001b[43m_read_only\u001b[49m\u001b[43m,\u001b[49m\n\u001b[1;32m    470\u001b[0m \u001b[43m        \u001b[49m\u001b[43mpath\u001b[49m\u001b[38;5;241;43m=\u001b[39;49m\u001b[43mpath\u001b[49m\u001b[43m,\u001b[49m\n\u001b[1;32m    471\u001b[0m \u001b[43m        \u001b[49m\u001b[43mchunk_store\u001b[49m\u001b[38;5;241;43m=\u001b[39;49m\u001b[38;5;28;43mself\u001b[39;49m\u001b[38;5;241;43m.\u001b[39;49m\u001b[43m_chunk_store\u001b[49m\u001b[43m,\u001b[49m\n\u001b[1;32m    472\u001b[0m \u001b[43m        \u001b[49m\u001b[43msynchronizer\u001b[49m\u001b[38;5;241;43m=\u001b[39;49m\u001b[38;5;28;43mself\u001b[39;49m\u001b[38;5;241;43m.\u001b[39;49m\u001b[43m_synchronizer\u001b[49m\u001b[43m,\u001b[49m\n\u001b[1;32m    473\u001b[0m \u001b[43m        \u001b[49m\u001b[43mcache_attrs\u001b[49m\u001b[38;5;241;43m=\u001b[39;49m\u001b[38;5;28;43mself\u001b[39;49m\u001b[38;5;241;43m.\u001b[39;49m\u001b[43mattrs\u001b[49m\u001b[38;5;241;43m.\u001b[39;49m\u001b[43mcache\u001b[49m\u001b[43m,\u001b[49m\n\u001b[1;32m    474\u001b[0m \u001b[43m        \u001b[49m\u001b[43mzarr_version\u001b[49m\u001b[38;5;241;43m=\u001b[39;49m\u001b[38;5;28;43mself\u001b[39;49m\u001b[38;5;241;43m.\u001b[39;49m\u001b[43m_version\u001b[49m\u001b[43m,\u001b[49m\n\u001b[1;32m    475\u001b[0m \u001b[43m        \u001b[49m\u001b[43mmeta_array\u001b[49m\u001b[38;5;241;43m=\u001b[39;49m\u001b[38;5;28;43mself\u001b[39;49m\u001b[38;5;241;43m.\u001b[39;49m\u001b[43m_meta_array\u001b[49m\u001b[43m,\u001b[49m\n\u001b[1;32m    476\u001b[0m \u001b[43m    \u001b[49m\u001b[43m)\u001b[49m\n\u001b[1;32m    477\u001b[0m \u001b[38;5;28;01mexcept\u001b[39;00m ArrayNotFoundError:\n\u001b[1;32m    478\u001b[0m     \u001b[38;5;28;01mpass\u001b[39;00m\n",
      "File \u001b[0;32m/opt/conda/lib/python3.9/site-packages/zarr/core.py:170\u001b[0m, in \u001b[0;36mArray.__init__\u001b[0;34m(self, store, path, read_only, chunk_store, synchronizer, cache_metadata, cache_attrs, partial_decompress, write_empty_chunks, zarr_version, meta_array)\u001b[0m\n\u001b[1;32m    167\u001b[0m     \u001b[38;5;28mself\u001b[39m\u001b[38;5;241m.\u001b[39m_metadata_key_suffix \u001b[38;5;241m=\u001b[39m \u001b[38;5;28mself\u001b[39m\u001b[38;5;241m.\u001b[39m_hierarchy_metadata[\u001b[38;5;124m\"\u001b[39m\u001b[38;5;124mmetadata_key_suffix\u001b[39m\u001b[38;5;124m\"\u001b[39m]\n\u001b[1;32m    169\u001b[0m \u001b[38;5;66;03m# initialize metadata\u001b[39;00m\n\u001b[0;32m--> 170\u001b[0m \u001b[38;5;28;43mself\u001b[39;49m\u001b[38;5;241;43m.\u001b[39;49m\u001b[43m_load_metadata\u001b[49m\u001b[43m(\u001b[49m\u001b[43m)\u001b[49m\n\u001b[1;32m    172\u001b[0m \u001b[38;5;66;03m# initialize attributes\u001b[39;00m\n\u001b[1;32m    173\u001b[0m akey \u001b[38;5;241m=\u001b[39m _prefix_to_attrs_key(\u001b[38;5;28mself\u001b[39m\u001b[38;5;241m.\u001b[39m_store, \u001b[38;5;28mself\u001b[39m\u001b[38;5;241m.\u001b[39m_key_prefix)\n",
      "File \u001b[0;32m/opt/conda/lib/python3.9/site-packages/zarr/core.py:193\u001b[0m, in \u001b[0;36mArray._load_metadata\u001b[0;34m(self)\u001b[0m\n\u001b[1;32m    191\u001b[0m \u001b[38;5;250m\u001b[39m\u001b[38;5;124;03m\"\"\"(Re)load metadata from store.\"\"\"\u001b[39;00m\n\u001b[1;32m    192\u001b[0m \u001b[38;5;28;01mif\u001b[39;00m \u001b[38;5;28mself\u001b[39m\u001b[38;5;241m.\u001b[39m_synchronizer \u001b[38;5;129;01mis\u001b[39;00m \u001b[38;5;28;01mNone\u001b[39;00m:\n\u001b[0;32m--> 193\u001b[0m     \u001b[38;5;28;43mself\u001b[39;49m\u001b[38;5;241;43m.\u001b[39;49m\u001b[43m_load_metadata_nosync\u001b[49m\u001b[43m(\u001b[49m\u001b[43m)\u001b[49m\n\u001b[1;32m    194\u001b[0m \u001b[38;5;28;01melse\u001b[39;00m:\n\u001b[1;32m    195\u001b[0m     mkey \u001b[38;5;241m=\u001b[39m _prefix_to_array_key(\u001b[38;5;28mself\u001b[39m\u001b[38;5;241m.\u001b[39m_store, \u001b[38;5;28mself\u001b[39m\u001b[38;5;241m.\u001b[39m_key_prefix)\n",
      "File \u001b[0;32m/opt/conda/lib/python3.9/site-packages/zarr/core.py:240\u001b[0m, in \u001b[0;36mArray._load_metadata_nosync\u001b[0;34m(self)\u001b[0m\n\u001b[1;32m    238\u001b[0m     \u001b[38;5;28mself\u001b[39m\u001b[38;5;241m.\u001b[39m_compressor \u001b[38;5;241m=\u001b[39m \u001b[38;5;28;01mNone\u001b[39;00m\n\u001b[1;32m    239\u001b[0m \u001b[38;5;28;01melif\u001b[39;00m \u001b[38;5;28mself\u001b[39m\u001b[38;5;241m.\u001b[39m_version \u001b[38;5;241m==\u001b[39m \u001b[38;5;241m2\u001b[39m:\n\u001b[0;32m--> 240\u001b[0m     \u001b[38;5;28mself\u001b[39m\u001b[38;5;241m.\u001b[39m_compressor \u001b[38;5;241m=\u001b[39m \u001b[43mget_codec\u001b[49m\u001b[43m(\u001b[49m\u001b[43mcompressor\u001b[49m\u001b[43m)\u001b[49m\n\u001b[1;32m    241\u001b[0m \u001b[38;5;28;01melse\u001b[39;00m:\n\u001b[1;32m    242\u001b[0m     \u001b[38;5;28mself\u001b[39m\u001b[38;5;241m.\u001b[39m_compressor \u001b[38;5;241m=\u001b[39m compressor\n",
      "File \u001b[0;32m/opt/conda/lib/python3.9/site-packages/numcodecs/registry.py:55\u001b[0m, in \u001b[0;36mget_codec\u001b[0;34m(config)\u001b[0m\n\u001b[1;32m     53\u001b[0m         register_codec(\u001b[38;5;28mcls\u001b[39m, codec_id\u001b[38;5;241m=\u001b[39mcodec_id)\n\u001b[1;32m     54\u001b[0m \u001b[38;5;28;01mif\u001b[39;00m \u001b[38;5;28mcls\u001b[39m:\n\u001b[0;32m---> 55\u001b[0m     \u001b[38;5;28;01mreturn\u001b[39;00m \u001b[38;5;28;43mcls\u001b[39;49m\u001b[38;5;241;43m.\u001b[39;49m\u001b[43mfrom_config\u001b[49m\u001b[43m(\u001b[49m\u001b[43mconfig\u001b[49m\u001b[43m)\u001b[49m\n\u001b[1;32m     56\u001b[0m \u001b[38;5;28;01mraise\u001b[39;00m \u001b[38;5;167;01mValueError\u001b[39;00m(\u001b[38;5;124m'\u001b[39m\u001b[38;5;124mcodec not available: \u001b[39m\u001b[38;5;132;01m%r\u001b[39;00m\u001b[38;5;124m'\u001b[39m \u001b[38;5;241m%\u001b[39m codec_id)\n",
      "File \u001b[0;32m/opt/conda/lib/python3.9/site-packages/numcodecs/abc.py:107\u001b[0m, in \u001b[0;36mCodec.from_config\u001b[0;34m(cls, config)\u001b[0m\n\u001b[1;32m     99\u001b[0m \u001b[38;5;250m\u001b[39m\u001b[38;5;124;03m\"\"\"Instantiate codec from a configuration object.\"\"\"\u001b[39;00m\n\u001b[1;32m    100\u001b[0m \u001b[38;5;66;03m# N.B., assume at this point the 'id' field has been removed from\u001b[39;00m\n\u001b[1;32m    101\u001b[0m \u001b[38;5;66;03m# the config object\u001b[39;00m\n\u001b[1;32m    102\u001b[0m \n\u001b[0;32m   (...)\u001b[0m\n\u001b[1;32m    105\u001b[0m \u001b[38;5;66;03m# by default, assume constructor accepts configuration parameters as\u001b[39;00m\n\u001b[1;32m    106\u001b[0m \u001b[38;5;66;03m# keyword arguments without any special decoding\u001b[39;00m\n\u001b[0;32m--> 107\u001b[0m \u001b[38;5;28;01mreturn\u001b[39;00m \u001b[38;5;28;43mcls\u001b[39;49m\u001b[43m(\u001b[49m\u001b[38;5;241;43m*\u001b[39;49m\u001b[38;5;241;43m*\u001b[39;49m\u001b[43mconfig\u001b[49m\u001b[43m)\u001b[49m\n",
      "File \u001b[0;32m/opt/conda/lib/python3.9/site-packages/wavpack_numcodecs/wavpack.pyx:187\u001b[0m, in \u001b[0;36mwavpack_numcodecs.wavpack.WavPack.__init__\u001b[0;34m()\u001b[0m\n",
      "\u001b[0;31mTypeError\u001b[0m: __init__() got an unexpected keyword argument 'dynamic_noise_shaping'"
     ]
    }
   ],
   "source": [
    "import spikeinterface as si\n",
    "segment_index = 0\n",
    "#nidaq_folder = nidaq_folder[0]\n",
    "#nidq_stream = nidaq_folder.stem\n",
    "rec_nidaq = si.read_zarr(nidaq_folder)\n",
    "rec_nidaq = si.split_recording(rec_nidaq)[segment_index]"
   ]
  },
  {
   "cell_type": "code",
   "execution_count": 17,
   "metadata": {},
   "outputs": [
    {
     "data": {
      "text/plain": [
       "'/data/ecephys_784956_2025-07-15_15-23-15/ecephys/ecephys_compressed/experiment1_Record Node 104#NI-DAQmx-103.PXIe-6341.zarr'"
      ]
     },
     "execution_count": 17,
     "metadata": {},
     "output_type": "execute_result"
    }
   ],
   "source": [
    "nidaq_folder"
   ]
  },
  {
   "cell_type": "code",
   "execution_count": 11,
   "metadata": {},
   "outputs": [
    {
     "name": "stdout",
     "output_type": "stream",
     "text": [
      "Now processing session 784956_2025-07-15_15-23-15, ProbeA\n",
      "Channel group 0\n"
     ]
    },
    {
     "name": "stderr",
     "output_type": "stream",
     "text": [
      "100%|██████████| 150/150 [05:58<00:00,  2.39s/it]\n"
     ]
    },
    {
     "name": "stdout",
     "output_type": "stream",
     "text": [
      "Channel group 1\n"
     ]
    },
    {
     "name": "stderr",
     "output_type": "stream",
     "text": [
      "100%|██████████| 143/143 [05:25<00:00,  2.27s/it]\n"
     ]
    },
    {
     "name": "stdout",
     "output_type": "stream",
     "text": [
      "Channel group 2\n"
     ]
    },
    {
     "name": "stderr",
     "output_type": "stream",
     "text": [
      "100%|██████████| 188/188 [06:43<00:00,  2.15s/it]\n"
     ]
    },
    {
     "name": "stdout",
     "output_type": "stream",
     "text": [
      "Channel group 3\n"
     ]
    },
    {
     "name": "stderr",
     "output_type": "stream",
     "text": [
      "100%|██████████| 150/150 [05:52<00:00,  2.35s/it]\n"
     ]
    }
   ],
   "source": [
    "all_laser_response_metrics = analyzer.one_probe_laser_responses(this_stream, timestamps, sorting_outputs, waveform_extractors, extremum_channels)"
   ]
  },
  {
   "cell_type": "code",
   "execution_count": 12,
   "metadata": {},
   "outputs": [
    {
     "name": "stdout",
     "output_type": "stream",
     "text": [
      "784956_2025-07-15_15-23-15, ProbeA, shank 0:\n",
      "0 tagged external_red units: []\n",
      "0 tagged external_blue units: []\n",
      "784956_2025-07-15_15-23-15, ProbeA, shank 1:\n",
      "0 tagged external_red units: []\n",
      "0 tagged external_blue units: []\n",
      "784956_2025-07-15_15-23-15, ProbeA, shank 2:\n",
      "0 tagged external_red units: []\n",
      "0 tagged external_blue units: []\n",
      "784956_2025-07-15_15-23-15, ProbeA, shank 3:\n",
      "0 tagged external_red units: []\n",
      "0 tagged external_blue units: []\n"
     ]
    }
   ],
   "source": [
    "responsive_unit_ids = analyzer.get_responsive_neurons(all_laser_response_metrics, sorting_outputs, this_stream)"
   ]
  },
  {
   "cell_type": "code",
   "execution_count": 9,
   "metadata": {},
   "outputs": [
    {
     "data": {
      "text/plain": [
       "{0: {'internal_blue': array([  2,  29,  32, 178])}}"
      ]
     },
     "execution_count": 9,
     "metadata": {},
     "output_type": "execute_result"
    }
   ],
   "source": [
    "responsive_unit_ids"
   ]
  },
  {
   "cell_type": "code",
   "execution_count": 9,
   "metadata": {},
   "outputs": [],
   "source": [
    "import plotting_funcs as pf\n",
    "from importlib import reload\n",
    "reload(pf)\n",
    "for shank in range(4):\n",
    "    try:\n",
    "        shank_units = responsive_unit_ids[shank]\n",
    "        for trial_type in list(shank_units.keys()):\n",
    "            unit_ids = shank_units[trial_type]\n",
    "            this_sorting_output = sorting_outputs[shank]\n",
    "            this_waveform_extractor = waveform_extractors[shank]\n",
    "            this_laser_response_metrics = all_laser_response_metrics[shank]\n",
    "            fig_title = f\"{this_session}_{this_stream}_shank{shank}_{trial_type.split('_')[-1]}_responsive\"\n",
    "\n",
    "            # for the different ways probe might be named in the trials table...\n",
    "            probe_name = this_stream\n",
    "            if probe_name[-3:] == '-AP':\n",
    "                probe_name = probe_name[:-3]\n",
    "            if 'emission_location' in analyzer.trial_ids.columns:\n",
    "                all_emission_locations = np.unique(analyzer.trial_ids.emission_location)\n",
    "                if probe_name not in all_emission_locations:\n",
    "                    probe_name = probe_name[:5]+' '+probe_name[-1]\n",
    "                    if probe_name not in all_emission_locations:\n",
    "                        for location in all_emission_locations:\n",
    "                            if probe_name in location:\n",
    "                                probe_name = location\n",
    "\n",
    "            trial_types = np.unique(analyzer.trial_ids['type'])\n",
    "\n",
    "            pf.multi_unit_raster_plot(unit_ids, this_sorting_output, timestamps, this_waveform_extractor, analyzer.trial_ids, analyzer.laser_onset_times, this_laser_response_metrics, trial_types, probe_name, fig_title)\n",
    "    except KeyError:\n",
    "        continue\n",
    "    \n",
    "    #pf.multi_unit_raster_plot(unit_ids, sorting_output, timestamps, waveform_extractor, event_ids, laser_onset_times, laser_response_metrics, trial_types, session, probe, label,)"
   ]
  },
  {
   "cell_type": "code",
   "execution_count": 10,
   "metadata": {},
   "outputs": [
    {
     "data": {
      "text/plain": [
       "0      surface (Probe B)\n",
       "1      surface (Probe A)\n",
       "2      surface (Probe A)\n",
       "3      surface (Probe B)\n",
       "4      surface (Probe B)\n",
       "             ...        \n",
       "355    surface (Probe A)\n",
       "356    surface (Probe B)\n",
       "357    surface (Probe A)\n",
       "358    surface (Probe B)\n",
       "359    surface (Probe B)\n",
       "Name: emission_location, Length: 360, dtype: object"
      ]
     },
     "execution_count": 10,
     "metadata": {},
     "output_type": "execute_result"
    }
   ],
   "source": [
    "analyzer.trial_ids['emission_location']"
   ]
  },
  {
   "cell_type": "code",
   "execution_count": null,
   "metadata": {},
   "outputs": [
    {
     "name": "stdout",
     "output_type": "stream",
     "text": [
      "784956_2025-07-15_15-23-15_ProbeB_shank0_all_not_noise.png saved\n",
      "784956_2025-07-15_15-23-15_ProbeB_shank1_all_not_noise.png saved\n",
      "784956_2025-07-15_15-23-15_ProbeB_shank2_all_not_noise.png saved\n"
     ]
    },
    {
     "ename": "IndexError",
     "evalue": "list index out of range",
     "output_type": "error",
     "traceback": [
      "\u001b[0;31m---------------------------------------------------------------------------\u001b[0m",
      "\u001b[0;31mIndexError\u001b[0m                                Traceback (most recent call last)",
      "Cell \u001b[0;32mIn[8], line 6\u001b[0m\n\u001b[1;32m      4\u001b[0m reload(pf)\n\u001b[1;32m      5\u001b[0m \u001b[38;5;28;01mfor\u001b[39;00m shank \u001b[38;5;129;01min\u001b[39;00m \u001b[38;5;28mrange\u001b[39m(\u001b[38;5;241m4\u001b[39m):\n\u001b[0;32m----> 6\u001b[0m     this_sorting_output \u001b[38;5;241m=\u001b[39m \u001b[43msorting_outputs\u001b[49m\u001b[43m[\u001b[49m\u001b[43mshank\u001b[49m\u001b[43m]\u001b[49m\n\u001b[1;32m      7\u001b[0m     this_waveform_extractor \u001b[38;5;241m=\u001b[39m waveform_extractors[shank]\n\u001b[1;32m      8\u001b[0m     all_units \u001b[38;5;241m=\u001b[39m this_sorting_output\u001b[38;5;241m.\u001b[39munit_ids\n",
      "\u001b[0;31mIndexError\u001b[0m: list index out of range"
     ]
    },
    {
     "name": "stdout",
     "output_type": "stream",
     "text": [
      "> \u001b[0;32m/tmp/ipykernel_15972/2962211230.py\u001b[0m(6)\u001b[0;36m<module>\u001b[0;34m()\u001b[0m\n",
      "\u001b[0;32m      4 \u001b[0;31m\u001b[0mreload\u001b[0m\u001b[0;34m(\u001b[0m\u001b[0mpf\u001b[0m\u001b[0;34m)\u001b[0m\u001b[0;34m\u001b[0m\u001b[0;34m\u001b[0m\u001b[0m\n",
      "\u001b[0m\u001b[0;32m      5 \u001b[0;31m\u001b[0;32mfor\u001b[0m \u001b[0mshank\u001b[0m \u001b[0;32min\u001b[0m \u001b[0mrange\u001b[0m\u001b[0;34m(\u001b[0m\u001b[0;36m4\u001b[0m\u001b[0;34m)\u001b[0m\u001b[0;34m:\u001b[0m\u001b[0;34m\u001b[0m\u001b[0;34m\u001b[0m\u001b[0m\n",
      "\u001b[0m\u001b[0;32m----> 6 \u001b[0;31m    \u001b[0mthis_sorting_output\u001b[0m \u001b[0;34m=\u001b[0m \u001b[0msorting_outputs\u001b[0m\u001b[0;34m[\u001b[0m\u001b[0mshank\u001b[0m\u001b[0;34m]\u001b[0m\u001b[0;34m\u001b[0m\u001b[0;34m\u001b[0m\u001b[0m\n",
      "\u001b[0m\u001b[0;32m      7 \u001b[0;31m    \u001b[0mthis_waveform_extractor\u001b[0m \u001b[0;34m=\u001b[0m \u001b[0mwaveform_extractors\u001b[0m\u001b[0;34m[\u001b[0m\u001b[0mshank\u001b[0m\u001b[0;34m]\u001b[0m\u001b[0;34m\u001b[0m\u001b[0;34m\u001b[0m\u001b[0m\n",
      "\u001b[0m\u001b[0;32m      8 \u001b[0;31m    \u001b[0mall_units\u001b[0m \u001b[0;34m=\u001b[0m \u001b[0mthis_sorting_output\u001b[0m\u001b[0;34m.\u001b[0m\u001b[0munit_ids\u001b[0m\u001b[0;34m\u001b[0m\u001b[0;34m\u001b[0m\u001b[0m\n",
      "\u001b[0m\n"
     ]
    }
   ],
   "source": [
    "# plot all (good?) units to look for responsive ones\n",
    "import plotting_funcs as pf\n",
    "from importlib import reload\n",
    "reload(pf)\n",
    "for shank in range(4):\n",
    "    this_sorting_output = sorting_outputs[shank]\n",
    "    this_waveform_extractor = waveform_extractors[shank]\n",
    "    all_units = this_sorting_output.unit_ids\n",
    "    decoder_label = this_sorting_output.get_property('decoder_label')\n",
    "    unit_ids = all_units[decoder_label != 'noise']\n",
    "    fig_title = f\"{this_session}_{this_stream}_shank{shank}_all_not_noise\"\n",
    "\n",
    "    # for the different ways probe might be named in the trials table...\n",
    "    probe_name = this_stream\n",
    "    if probe_name[-3:] == '-AP':\n",
    "        probe_name = probe_name[:-3]\n",
    "    if 'emission_location' in analyzer.trial_ids.columns:\n",
    "        all_emission_locations = np.unique(analyzer.trial_ids.emission_location)\n",
    "        if probe_name not in all_emission_locations:\n",
    "            probe_name = probe_name[:5]+' '+probe_name[-1]\n",
    "            if probe_name not in all_emission_locations:\n",
    "                for location in all_emission_locations:\n",
    "                    if probe_name in location:\n",
    "                        probe_name = location\n",
    "\n",
    "    trial_types = np.unique(analyzer.trial_ids['type'])\n",
    "\n",
    "    pf.multi_unit_raster_plot(unit_ids, this_sorting_output, timestamps, this_waveform_extractor, analyzer.trial_ids, analyzer.laser_onset_times, trial_types, probe_name, fig_title)\n",
    "    \n",
    "    #pf.multi_unit_raster_plot(unit_ids, sorting_output, timestamps, waveform_extractor, event_ids, laser_onset_times, laser_response_metrics, trial_types, session, probe, label,)"
   ]
  },
  {
   "cell_type": "code",
   "execution_count": 7,
   "metadata": {},
   "outputs": [
    {
     "name": "stdout",
     "output_type": "stream",
     "text": [
      "784956_2025-07-15_15-23-15_ProbeB_shank0_all_noise.png saved\n",
      "784956_2025-07-15_15-23-15_ProbeB_shank1_all_noise.png saved\n",
      "784956_2025-07-15_15-23-15_ProbeB_shank2_all_noise.png saved\n"
     ]
    },
    {
     "ename": "IndexError",
     "evalue": "list index out of range",
     "output_type": "error",
     "traceback": [
      "\u001b[0;31m---------------------------------------------------------------------------\u001b[0m",
      "\u001b[0;31mIndexError\u001b[0m                                Traceback (most recent call last)",
      "Cell \u001b[0;32mIn[7], line 6\u001b[0m\n\u001b[1;32m      4\u001b[0m reload(pf)\n\u001b[1;32m      5\u001b[0m \u001b[38;5;28;01mfor\u001b[39;00m shank \u001b[38;5;129;01min\u001b[39;00m \u001b[38;5;28mrange\u001b[39m(\u001b[38;5;241m4\u001b[39m):\n\u001b[0;32m----> 6\u001b[0m     this_sorting_output \u001b[38;5;241m=\u001b[39m \u001b[43msorting_outputs\u001b[49m\u001b[43m[\u001b[49m\u001b[43mshank\u001b[49m\u001b[43m]\u001b[49m\n\u001b[1;32m      7\u001b[0m     this_waveform_extractor \u001b[38;5;241m=\u001b[39m waveform_extractors[shank]\n\u001b[1;32m      8\u001b[0m     all_units \u001b[38;5;241m=\u001b[39m this_sorting_output\u001b[38;5;241m.\u001b[39munit_ids\n",
      "\u001b[0;31mIndexError\u001b[0m: list index out of range"
     ]
    }
   ],
   "source": [
    "# plot all noise units to at least see artifacts aligned to stim!!!\n",
    "import plotting_funcs as pf\n",
    "from importlib import reload\n",
    "reload(pf)\n",
    "for shank in range(4):\n",
    "    this_sorting_output = sorting_outputs[shank]\n",
    "    this_waveform_extractor = waveform_extractors[shank]\n",
    "    all_units = this_sorting_output.unit_ids\n",
    "    decoder_label = this_sorting_output.get_property('decoder_label')\n",
    "    unit_ids = all_units[decoder_label == 'noise']\n",
    "    fig_title = f\"{this_session}_{this_stream}_shank{shank}_all_noise\"\n",
    "\n",
    "    # for the different ways probe might be named in the trials table...\n",
    "    probe_name = this_stream\n",
    "    if probe_name[-3:] == '-AP':\n",
    "        probe_name = probe_name[:-3]\n",
    "    if 'emission_location' in analyzer.trial_ids.columns:\n",
    "        all_emission_locations = np.unique(analyzer.trial_ids.emission_location)\n",
    "        if probe_name not in all_emission_locations:\n",
    "            probe_name = probe_name[:5]+' '+probe_name[-1]\n",
    "            if probe_name not in all_emission_locations:\n",
    "                for location in all_emission_locations:\n",
    "                    if probe_name in location:\n",
    "                        probe_name = location\n",
    "\n",
    "    trial_types = np.unique(analyzer.trial_ids['type'])\n",
    "\n",
    "    pf.multi_unit_raster_plot(unit_ids, this_sorting_output, timestamps, this_waveform_extractor, analyzer.trial_ids, analyzer.laser_onset_times, trial_types, probe_name, fig_title)\n",
    "    \n",
    "    #pf.multi_unit_raster_plot(unit_ids, sorting_output, timestamps, waveform_extractor, event_ids, laser_onset_times, laser_response_metrics, trial_types, session, probe, label,)"
   ]
  },
  {
   "cell_type": "code",
   "execution_count": 24,
   "metadata": {},
   "outputs": [
    {
     "data": {
      "text/plain": [
       "861"
      ]
     },
     "execution_count": 24,
     "metadata": {},
     "output_type": "execute_result"
    }
   ],
   "source": [
    "len(sorting_outputs[0].get_property('decoder_label'))"
   ]
  },
  {
   "cell_type": "code",
   "execution_count": 25,
   "metadata": {},
   "outputs": [
    {
     "data": {
      "text/plain": [
       "861"
      ]
     },
     "execution_count": 25,
     "metadata": {},
     "output_type": "execute_result"
    }
   ],
   "source": [
    "len(sorting_outputs[0].unit_ids)"
   ]
  },
  {
   "cell_type": "code",
   "execution_count": 27,
   "metadata": {},
   "outputs": [
    {
     "data": {
      "text/plain": [
       "418"
      ]
     },
     "execution_count": 27,
     "metadata": {},
     "output_type": "execute_result"
    }
   ],
   "source": [
    "len(sorting_outputs[0].unit_ids[sorting_outputs[0].get_property('decoder_label') != 'noise'])"
   ]
  },
  {
   "cell_type": "code",
   "execution_count": 16,
   "metadata": {},
   "outputs": [
    {
     "data": {
      "text/plain": [
       "array([[ 0.29951999, -0.62829006,  0.02222962, ...,  0.        ,\n",
       "         0.        ,  0.        ],\n",
       "       [-0.65519989, -0.13338016, -1.13841105, ...,  0.        ,\n",
       "         0.        ,  0.        ],\n",
       "       [ 0.12051018, -0.08658038,  0.55457973, ...,  0.        ,\n",
       "         0.        ,  0.        ],\n",
       "       ...,\n",
       "       [-0.49256974, -0.15092972, -0.49257025, ...,  0.        ,\n",
       "         0.        ,  0.        ],\n",
       "       [-0.37088987,  0.73007971, -0.93599999, ...,  0.        ,\n",
       "         0.        ,  0.        ],\n",
       "       [-0.64934939, -0.05148003, -0.35451028, ...,  0.        ,\n",
       "         0.        ,  0.        ]])"
      ]
     },
     "execution_count": 16,
     "metadata": {},
     "output_type": "execute_result"
    }
   ],
   "source": [
    "template_ext = this_waveform_extractor.get_extension(\"templates\")\n",
    "template_ext.get_unit_template(1)"
   ]
  },
  {
   "cell_type": "code",
   "execution_count": 4,
   "metadata": {},
   "outputs": [
    {
     "data": {
      "text/plain": [
       "'blue'"
      ]
     },
     "execution_count": 4,
     "metadata": {},
     "output_type": "execute_result"
    }
   ],
   "source": [
    "a = 'external_blue'\n",
    "a.split('_')[-1]"
   ]
  },
  {
   "cell_type": "code",
   "execution_count": null,
   "metadata": {},
   "outputs": [],
   "source": []
  }
 ],
 "metadata": {
  "kernelspec": {
   "display_name": "base",
   "language": "python",
   "name": "python3"
  },
  "language_info": {
   "codemirror_mode": {
    "name": "ipython",
    "version": 3
   },
   "file_extension": ".py",
   "mimetype": "text/x-python",
   "name": "python",
   "nbconvert_exporter": "python",
   "pygments_lexer": "ipython3",
   "version": "3.9.12"
  }
 },
 "nbformat": 4,
 "nbformat_minor": 2
}
